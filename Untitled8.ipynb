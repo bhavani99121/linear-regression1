{
  "nbformat": 4,
  "nbformat_minor": 0,
  "metadata": {
    "colab": {
      "provenance": [],
      "mount_file_id": "1tBH_N77sAgHqWPLGOEr-KaHIuaEArXCu",
      "authorship_tag": "ABX9TyNMg2HOivqvnIcD38fhPziY",
      "include_colab_link": true
    },
    "kernelspec": {
      "name": "python3",
      "display_name": "Python 3"
    },
    "language_info": {
      "name": "python"
    }
  },
  "cells": [
    {
      "cell_type": "markdown",
      "metadata": {
        "id": "view-in-github",
        "colab_type": "text"
      },
      "source": [
        "<a href=\"https://colab.research.google.com/github/bhavani99121/linear-regression1/blob/main/Untitled8.ipynb\" target=\"_parent\"><img src=\"https://colab.research.google.com/assets/colab-badge.svg\" alt=\"Open In Colab\"/></a>"
      ]
    },
    {
      "cell_type": "code",
      "execution_count": null,
      "metadata": {
        "colab": {
          "base_uri": "https://localhost:8080/",
          "height": 957
        },
        "id": "aZiQ4pJ_pn4k",
        "outputId": "a95c3f84-73a6-4889-ac0c-db81f5af5928"
      },
      "outputs": [
        {
          "output_type": "stream",
          "name": "stdout",
          "text": [
            "<class 'pandas.core.frame.DataFrame'>\n",
            "RangeIndex: 6574 entries, 0 to 6573\n",
            "Data columns (total 9 columns):\n",
            " #   Column   Non-Null Count  Dtype  \n",
            "---  ------   --------------  -----  \n",
            " 0   DATE     6574 non-null   object \n",
            " 1   WIND     6574 non-null   float64\n",
            " 2   IND      6574 non-null   int64  \n",
            " 3   RAIN     6574 non-null   float64\n",
            " 4   IND.1    6513 non-null   float64\n",
            " 5   T.MAX    5953 non-null   float64\n",
            " 6   IND.2    6513 non-null   float64\n",
            " 7   T.MIN    5900 non-null   float64\n",
            " 8   T.MIN.G  6214 non-null   float64\n",
            "dtypes: float64(7), int64(1), object(1)\n",
            "memory usage: 462.4+ KB\n",
            "<class 'pandas.core.frame.DataFrame'>\n",
            "RangeIndex: 6574 entries, 0 to 6573\n",
            "Data columns (total 12 columns):\n",
            " #   Column   Non-Null Count  Dtype         \n",
            "---  ------   --------------  -----         \n",
            " 0   DATE     6574 non-null   datetime64[ns]\n",
            " 1   WIND     6574 non-null   float64       \n",
            " 2   IND      6574 non-null   int64         \n",
            " 3   RAIN     6574 non-null   float64       \n",
            " 4   IND.1    6513 non-null   float64       \n",
            " 5   T.MAX    5953 non-null   float64       \n",
            " 6   IND.2    6513 non-null   float64       \n",
            " 7   T.MIN    5900 non-null   float64       \n",
            " 8   T.MIN.G  6214 non-null   float64       \n",
            " 9   YEAR     6574 non-null   int64         \n",
            " 10  MONTH    6574 non-null   int64         \n",
            " 11  DAY      6574 non-null   int64         \n",
            "dtypes: datetime64[ns](1), float64(7), int64(4)\n",
            "memory usage: 616.4 KB\n",
            "Training dataset shape: (4404, 10) (4404,)\n",
            "Testing dataset shape: (2170, 10) (2170,)\n",
            "mean suare error: 22.829796000497772\n"
          ]
        },
        {
          "output_type": "display_data",
          "data": {
            "text/plain": [
              "<Figure size 432x288 with 2 Axes>"
            ],
            "image/png": "[encoded data removed]"
          },
          "metadata": {
            "needs_background": "light"
          }
        }
      ],
      "source": [
        "import pandas as pd\n",
        "import numpy as np  \n",
        "import matplotlib.pyplot as plt\n",
        "from numpy import arange\n",
        "from sklearn.linear_model import Ridge\n",
        "from sklearn.linear_model import RidgeCV\n",
        "from sklearn.model_selection import RepeatedKFold\n",
        "import seaborn as sns\n",
        "df = pd.read_csv('wind_dataset.csv')\n",
        "df.head()\n",
        "df.info()\n",
        "df['DATE'] = pd.to_datetime(df['DATE'])\n",
        "\n",
        "df['YEAR'] = df['DATE'].dt.year\n",
        "df['MONTH'] = df['DATE'].dt.month\n",
        "df['DAY'] = df['DATE'].dt.day\n",
        "df.info()\n",
        "df = df.drop(['DATE'], axis=1)\n",
        "df.isnull().sum().sum()\n",
        "sns.heatmap(df.isnull())\n",
        "df.isna().sum()\n",
        "df.fillna(0, inplace=True)\n",
        "df.isnull().sum().sum()\n",
        "df.head()\n",
        "X = df.drop(['WIND'], axis=1)\n",
        "y = df['WIND']\n",
        "from sklearn.model_selection import train_test_split\n",
        "\n",
        "X_train, X_test, y_train, y_test = train_test_split(X, y, test_size=0.33, random_state=123)\n",
        "\n",
        "print('Training dataset shape:', X_train.shape, y_train.shape)\n",
        "print('Testing dataset shape:', X_test.shape, y_test.shape)\n",
        "# Linear Regression\n",
        "\n",
        "from sklearn.linear_model import LinearRegression\n",
        "from sklearn import metrics\n",
        "\n",
        "lin_reg = LinearRegression()\n",
        "lin_reg.fit(X_train, y_train)\n",
        "lin_pred = lin_reg.predict(X_test)\n",
        "print('mean suare error:', metrics.mean_squared_error(y_test, lin_pred))\n",
        "\n"
      ]
    },
    {
      "cell_type": "code",
      "source": [
        "from google.colab import drive\n",
        "drive.mount('/content/drive')"
      ],
      "metadata": {
        "id": "Hv7Sz57hEgVF"
      },
      "execution_count": null,
      "outputs": []
    }
  ]
}